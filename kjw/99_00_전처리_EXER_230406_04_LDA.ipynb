{
 "cells": [
  {
   "cell_type": "code",
   "execution_count": 3,
   "metadata": {},
   "outputs": [
    {
     "name": "stdout",
     "output_type": "stream",
     "text": [
      "이날 출시행사에서 차량을 소개한 요하네스 슌 벤츠코리아 제품, 마케팅 및 디지털 비즈니스 총괄은 \"자사 전기차 최초로 더 뉴 EQS SUV에 적용한 오프로드 주행모드를 통해 비포장도로나 경사면을 달릴 때도 최적의 드라이빙 시스템을 제공하겠다\"며 \"오프로드 모드 시 주행 속도에 따라 전고가 최대 25㎜ 높아지며, 회전할 가능성이 높은 바퀴의 미끄러짐을 최소화하거나 추진력을 위해 충분히 미끄러짐을 허용하는 방식으로 차량을 안전하고 쉽게 제어하도록 도울 것\"이라고 말했다.\n",
      "출처=IT동아 이상국 벤츠코리아 부사장은 \"지난해 판매량에서 전기차 비중이 약 6%였지만, 올해는 전기차 신차를 앞세워 15%까지 끌어올릴 계획\"이라며 \"벤츠 R&D 코리아 센터의 올해 인력을 50% 추가해 60명 규모로 운영, 인포테인먼트 시스템과 자율주행 분야 연구개발에 박차를 가하겠다\"고 말했다.\n",
      "출처=IT동아 벤츠 전기차 전용 플랫폼 'EVA2' 적용한 첫 전기차 '더 뉴 EQS SUV' 벤츠코리아는 1일 서울 용산구 한남동 그랜드 하얏트 서울 호텔에서 전기 SUV '더 뉴 EQS SUV' 출시 행사를 진행했다.\n",
      "\n",
      "----------\n",
      "\n",
      "구글 플레이스토어 업데이트로 시작 안드로이드 오토는 지원 차량과 스마트폰을 연결해 차량 내 디스플레이에 기본 탑재된 내비게이션, 오디오 화면 대신 안드로이드 오토를 출력하는 기능이다.\n",
      "출처=IT동아 구글의 차량용 운영체제 '안드로이드 오토'의 최신 버전인 버전이 최근 업데이트됐다.\n",
      "자세한 안드로이드 오토 차량 호환은 차량 제조사 홈페이지 및 구글 안드로이드 공식 페이지에서 확인할 수 있다.\n",
      "\n",
      "----------\n",
      "\n",
      "학원과 교육장, 사업장 사내교육 출결관리 솔루션 '아임히어' 아임히어는 일반 위치 인증인 'Wi-Fi'에 위변조 불가능한 '이동통신사 기지국'의 정보를 더한다.\n",
      "아임히어는 학생의 출결관리나 사업장 사내교육에, 아임히어워크는 시무나 외근직 근로자가 많은 기업의 근태 관리에 최적화했다.\n",
      "외근·현장·영업직 많은 기업 출결관리 책임지는 '아임히어워크' 아임히어워크는 'GPS'와 '이동통신사 기지국'의 정보를 사용한다.\n",
      "\n",
      "----------\n",
      "\n"
     ]
    }
   ],
   "source": [
    "import pandas as pd\n",
    "from konlpy.tag import Mecab\n",
    "from nltk.tokenize import sent_tokenize\n",
    "import networkx as nx\n",
    "from sklearn.feature_extraction.text import CountVectorizer\n",
    "from sklearn.decomposition import LatentDirichletAllocation\n",
    "\n",
    "df = pd.read_csv('.\\clean_IT_news.csv').head(3)\n",
    "\n",
    "def sentences(text):\n",
    "    return sent_tokenize(text)\n",
    "\n",
    "with open('230406_송세영님_stop_word.txt', 'r', encoding='utf-8') as f:\n",
    "    korean_stop_words = set(line.strip() for line in f)\n",
    "\n",
    "def preprocess(text):\n",
    "    mecab = Mecab(dicpath=r\"C:/mecab/mecab-ko-dic\")\n",
    "    tokens = [word for word in mecab.pos(text) if word[1][0] in ['N', 'V']]\n",
    "    tokens = [word for word, pos in tokens if word not in korean_stop_words]\n",
    "    return ' '.join(tokens)\n",
    "\n",
    "def lda_summarize(text, num_summaries=3):\n",
    "    nodes = sentences(text)\n",
    "\n",
    "    preprocessed_nodes = [preprocess(node) for node in nodes]\n",
    "\n",
    "    vectorizer = CountVectorizer()\n",
    "    X = vectorizer.fit_transform(preprocessed_nodes)\n",
    "\n",
    "    lda = LatentDirichletAllocation(n_components=1, random_state=42)\n",
    "    lda.fit(X)\n",
    "\n",
    "    topic_word_distributions = lda.components_\n",
    "    topic_scores = X.dot(topic_word_distributions.T)\n",
    "\n",
    "    ranked_sentences = sorted([(sent, score) for sent, score in zip(nodes, topic_scores)], key=lambda x: x[1], reverse=True)\n",
    "    summary = ranked_sentences[:num_summaries]\n",
    "\n",
    "    return summary\n",
    "\n",
    "for index, row in df.iterrows():\n",
    "    content = row['content']\n",
    "    summary = lda_summarize(content, 3)\n",
    "    for sent, score in summary:\n",
    "        print(sent)\n",
    "    print(\"\\n----------\\n\")"
   ]
  }
 ],
 "metadata": {
  "kernelspec": {
   "display_name": "study2",
   "language": "python",
   "name": "python3"
  },
  "language_info": {
   "codemirror_mode": {
    "name": "ipython",
    "version": 3
   },
   "file_extension": ".py",
   "mimetype": "text/x-python",
   "name": "python",
   "nbconvert_exporter": "python",
   "pygments_lexer": "ipython3",
   "version": "3.8.16"
  },
  "orig_nbformat": 4
 },
 "nbformat": 4,
 "nbformat_minor": 2
}
