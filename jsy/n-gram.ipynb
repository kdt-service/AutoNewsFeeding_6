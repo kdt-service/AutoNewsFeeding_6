{
 "cells": [
  {
   "cell_type": "code",
   "execution_count": 1,
   "metadata": {},
   "outputs": [],
   "source": [
    "# N-gram 연습"
   ]
  },
  {
   "cell_type": "code",
   "execution_count": 2,
   "metadata": {},
   "outputs": [
    {
     "name": "stdout",
     "output_type": "stream",
     "text": [
      "He\n",
      "el\n",
      "ll\n",
      "lo\n"
     ]
    }
   ],
   "source": [
    "# 반복문을 사용한 2-gram\n",
    "\n",
    "text = 'Hello'\n",
    "for i in range(len(text)-1):\n",
    "    print(text[i],text[i+1],sep='')"
   ]
  },
  {
   "cell_type": "code",
   "execution_count": 3,
   "metadata": {},
   "outputs": [
    {
     "name": "stdout",
     "output_type": "stream",
     "text": [
      "this is\n",
      "is python\n",
      "python script\n"
     ]
    }
   ],
   "source": [
    "# 단어 단위로 N-gram 적용\n",
    "\n",
    "text = \"this is python script\"\n",
    "words = text.split()\n",
    "\n",
    "for i in range(len(words)-1):\n",
    "    print(words[i], words[i+1])"
   ]
  },
  {
   "cell_type": "code",
   "execution_count": 4,
   "metadata": {},
   "outputs": [
    {
     "name": "stdout",
     "output_type": "stream",
     "text": [
      "He\n",
      "el\n",
      "ll\n",
      "lo\n"
     ]
    }
   ],
   "source": [
    "# 글자 단위로 zip 사용하기\n",
    "\n",
    "text = 'Hello'\n",
    "\n",
    "two_gram = zip(text, text[1:])\n",
    "for i in two_gram:\n",
    "    print(i[0], i[1], sep='')"
   ]
  },
  {
   "cell_type": "code",
   "execution_count": 5,
   "metadata": {},
   "outputs": [
    {
     "data": {
      "text/plain": [
       "[('나는', '천재다'),\n",
       " ('천재다', '나는'),\n",
       " ('나는', '아름답다'),\n",
       " ('아름답다', '나는'),\n",
       " ('나는', '코딩'),\n",
       " ('코딩', '천재다')]"
      ]
     },
     "execution_count": 5,
     "metadata": {},
     "output_type": "execute_result"
    }
   ],
   "source": [
    "# 단어 단위로 zip 튜플 만들기\n",
    "\n",
    "text = '나는 천재다 나는 아름답다 나는 코딩 천재다'\n",
    "words = text.split()\n",
    "list(zip(words, words[1:]))"
   ]
  },
  {
   "cell_type": "code",
   "execution_count": 6,
   "metadata": {},
   "outputs": [],
   "source": [
    "from konlpy.tag import Okt\n",
    "from collections import Counter\n",
    "import pandas as pd"
   ]
  },
  {
   "cell_type": "code",
   "execution_count": 7,
   "metadata": {},
   "outputs": [],
   "source": [
    "data = pd.read_csv(r'C:\\Users\\jjang\\KDT\\03 통계기반 NLP 프로젝트\\뉴스요약\\다음_IT.csv')"
   ]
  },
  {
   "cell_type": "code",
   "execution_count": 8,
   "metadata": {},
   "outputs": [],
   "source": [
    "df = data.loc[:, ['title', 'content']]"
   ]
  },
  {
   "cell_type": "code",
   "execution_count": 9,
   "metadata": {},
   "outputs": [
    {
     "name": "stdout",
     "output_type": "stream",
     "text": [
      "<class 'pandas.core.frame.DataFrame'>\n",
      "RangeIndex: 31843 entries, 0 to 31842\n",
      "Data columns (total 2 columns):\n",
      " #   Column   Non-Null Count  Dtype \n",
      "---  ------   --------------  ----- \n",
      " 0   title    31843 non-null  object\n",
      " 1   content  31843 non-null  object\n",
      "dtypes: object(2)\n",
      "memory usage: 497.7+ KB\n"
     ]
    }
   ],
   "source": [
    "df.info()"
   ]
  },
  {
   "cell_type": "code",
   "execution_count": 10,
   "metadata": {},
   "outputs": [],
   "source": [
    "df_word1 = df[df['title'].str.contains('기술')]"
   ]
  },
  {
   "cell_type": "code",
   "execution_count": 11,
   "metadata": {},
   "outputs": [
    {
     "data": {
      "text/html": [
       "<div>\n",
       "<style scoped>\n",
       "    .dataframe tbody tr th:only-of-type {\n",
       "        vertical-align: middle;\n",
       "    }\n",
       "\n",
       "    .dataframe tbody tr th {\n",
       "        vertical-align: top;\n",
       "    }\n",
       "\n",
       "    .dataframe thead th {\n",
       "        text-align: right;\n",
       "    }\n",
       "</style>\n",
       "<table border=\"1\" class=\"dataframe\">\n",
       "  <thead>\n",
       "    <tr style=\"text-align: right;\">\n",
       "      <th></th>\n",
       "      <th>title</th>\n",
       "      <th>content</th>\n",
       "    </tr>\n",
       "  </thead>\n",
       "  <tbody>\n",
       "    <tr>\n",
       "      <th>24</th>\n",
       "      <td>다이슨, 성수동에 헤어테크 기술 체험존 운영</td>\n",
       "      <td>(지디넷코리아=신영빈 기자)글로벌 기술 기업 다이슨코리아가 헤어 제품 팝업 ‘다이슨...</td>\n",
       "    </tr>\n",
       "    <tr>\n",
       "      <th>75</th>\n",
       "      <td>엑스플라, 기술 기업 ‘오지스’ 벨리데이터 참여...건강한 블록체인 생태계 확장</td>\n",
       "      <td>오지스. 컴투스홀딩스 컴투스홀딩스 등 컴투스 그룹이 주도하는 글로벌 블록체인 메인넷...</td>\n",
       "    </tr>\n",
       "    <tr>\n",
       "      <th>181</th>\n",
       "      <td>LG전자, 캄보디아 학생 자립 지원…에어컨 기술 무료 교육</td>\n",
       "      <td>(지디넷코리아=류은주 기자)LG전자가 에티오피아에 이어 캄보디아서도 젊은 인재들의 ...</td>\n",
       "    </tr>\n",
       "    <tr>\n",
       "      <th>349</th>\n",
       "      <td>한국로봇산업진흥원, 유망기술 제품화 수행 기업 모집</td>\n",
       "      <td>(지디넷코리아=신영빈 기자)한국로봇산업진흥원은 ‘2023년 유망기술 제품화 지원사업...</td>\n",
       "    </tr>\n",
       "    <tr>\n",
       "      <th>365</th>\n",
       "      <td>세계적 물맛 전문가, '코웨이 환경기술연구소' 방문해 호평</td>\n",
       "      <td>(지디넷코리아=이나리 기자)코웨이(대표 서장원)는 물맛 분야의 세계적 권위자인 ‘마...</td>\n",
       "    </tr>\n",
       "  </tbody>\n",
       "</table>\n",
       "</div>"
      ],
      "text/plain": [
       "                                            title   \n",
       "24                       다이슨, 성수동에 헤어테크 기술 체험존 운영  \\\n",
       "75   엑스플라, 기술 기업 ‘오지스’ 벨리데이터 참여...건강한 블록체인 생태계 확장   \n",
       "181              LG전자, 캄보디아 학생 자립 지원…에어컨 기술 무료 교육   \n",
       "349                  한국로봇산업진흥원, 유망기술 제품화 수행 기업 모집   \n",
       "365              세계적 물맛 전문가, '코웨이 환경기술연구소' 방문해 호평   \n",
       "\n",
       "                                               content  \n",
       "24   (지디넷코리아=신영빈 기자)글로벌 기술 기업 다이슨코리아가 헤어 제품 팝업 ‘다이슨...  \n",
       "75   오지스. 컴투스홀딩스 컴투스홀딩스 등 컴투스 그룹이 주도하는 글로벌 블록체인 메인넷...  \n",
       "181  (지디넷코리아=류은주 기자)LG전자가 에티오피아에 이어 캄보디아서도 젊은 인재들의 ...  \n",
       "349  (지디넷코리아=신영빈 기자)한국로봇산업진흥원은 ‘2023년 유망기술 제품화 지원사업...  \n",
       "365  (지디넷코리아=이나리 기자)코웨이(대표 서장원)는 물맛 분야의 세계적 권위자인 ‘마...  "
      ]
     },
     "execution_count": 11,
     "metadata": {},
     "output_type": "execute_result"
    }
   ],
   "source": [
    "df_word1.head()"
   ]
  },
  {
   "cell_type": "code",
   "execution_count": 12,
   "metadata": {},
   "outputs": [],
   "source": [
    "# 다이슨, 성수동에 헤어테크 기술 체험존 운영 --> '다이슨 성수동에 헤어테크 기술 체험존 운영' (순수 한글 + 영문만 뽑기)"
   ]
  },
  {
   "cell_type": "code",
   "execution_count": 13,
   "metadata": {},
   "outputs": [],
   "source": [
    "import re"
   ]
  },
  {
   "cell_type": "code",
   "execution_count": 14,
   "metadata": {},
   "outputs": [],
   "source": [
    "def text_cleaning(text):\n",
    "    hangul = re.compile('[^ ㄱ-ㅣ가-힣]+')\n",
    "    result = hangul.sub('', text)\n",
    "    return result"
   ]
  },
  {
   "cell_type": "code",
   "execution_count": 15,
   "metadata": {},
   "outputs": [
    {
     "name": "stderr",
     "output_type": "stream",
     "text": [
      "C:\\Users\\jjang\\AppData\\Local\\Temp\\ipykernel_9444\\2301189611.py:1: SettingWithCopyWarning: \n",
      "A value is trying to be set on a copy of a slice from a DataFrame.\n",
      "Try using .loc[row_indexer,col_indexer] = value instead\n",
      "\n",
      "See the caveats in the documentation: https://pandas.pydata.org/pandas-docs/stable/user_guide/indexing.html#returning-a-view-versus-a-copy\n",
      "  df_word1['title'] = df['title'].apply(lambda x: text_cleaning(x))\n"
     ]
    }
   ],
   "source": [
    "df_word1['title'] = df['title'].apply(lambda x: text_cleaning(x))"
   ]
  },
  {
   "cell_type": "code",
   "execution_count": 16,
   "metadata": {},
   "outputs": [
    {
     "data": {
      "text/html": [
       "<div>\n",
       "<style scoped>\n",
       "    .dataframe tbody tr th:only-of-type {\n",
       "        vertical-align: middle;\n",
       "    }\n",
       "\n",
       "    .dataframe tbody tr th {\n",
       "        vertical-align: top;\n",
       "    }\n",
       "\n",
       "    .dataframe thead th {\n",
       "        text-align: right;\n",
       "    }\n",
       "</style>\n",
       "<table border=\"1\" class=\"dataframe\">\n",
       "  <thead>\n",
       "    <tr style=\"text-align: right;\">\n",
       "      <th></th>\n",
       "      <th>title</th>\n",
       "      <th>content</th>\n",
       "    </tr>\n",
       "  </thead>\n",
       "  <tbody>\n",
       "    <tr>\n",
       "      <th>24</th>\n",
       "      <td>다이슨 성수동에 헤어테크 기술 체험존 운영</td>\n",
       "      <td>(지디넷코리아=신영빈 기자)글로벌 기술 기업 다이슨코리아가 헤어 제품 팝업 ‘다이슨...</td>\n",
       "    </tr>\n",
       "    <tr>\n",
       "      <th>75</th>\n",
       "      <td>엑스플라 기술 기업 오지스 벨리데이터 참여건강한 블록체인 생태계 확장</td>\n",
       "      <td>오지스. 컴투스홀딩스 컴투스홀딩스 등 컴투스 그룹이 주도하는 글로벌 블록체인 메인넷...</td>\n",
       "    </tr>\n",
       "    <tr>\n",
       "      <th>181</th>\n",
       "      <td>전자 캄보디아 학생 자립 지원에어컨 기술 무료 교육</td>\n",
       "      <td>(지디넷코리아=류은주 기자)LG전자가 에티오피아에 이어 캄보디아서도 젊은 인재들의 ...</td>\n",
       "    </tr>\n",
       "    <tr>\n",
       "      <th>349</th>\n",
       "      <td>한국로봇산업진흥원 유망기술 제품화 수행 기업 모집</td>\n",
       "      <td>(지디넷코리아=신영빈 기자)한국로봇산업진흥원은 ‘2023년 유망기술 제품화 지원사업...</td>\n",
       "    </tr>\n",
       "    <tr>\n",
       "      <th>365</th>\n",
       "      <td>세계적 물맛 전문가 코웨이 환경기술연구소 방문해 호평</td>\n",
       "      <td>(지디넷코리아=이나리 기자)코웨이(대표 서장원)는 물맛 분야의 세계적 권위자인 ‘마...</td>\n",
       "    </tr>\n",
       "  </tbody>\n",
       "</table>\n",
       "</div>"
      ],
      "text/plain": [
       "                                      title   \n",
       "24                  다이슨 성수동에 헤어테크 기술 체험존 운영  \\\n",
       "75   엑스플라 기술 기업 오지스 벨리데이터 참여건강한 블록체인 생태계 확장   \n",
       "181            전자 캄보디아 학생 자립 지원에어컨 기술 무료 교육   \n",
       "349             한국로봇산업진흥원 유망기술 제품화 수행 기업 모집   \n",
       "365           세계적 물맛 전문가 코웨이 환경기술연구소 방문해 호평   \n",
       "\n",
       "                                               content  \n",
       "24   (지디넷코리아=신영빈 기자)글로벌 기술 기업 다이슨코리아가 헤어 제품 팝업 ‘다이슨...  \n",
       "75   오지스. 컴투스홀딩스 컴투스홀딩스 등 컴투스 그룹이 주도하는 글로벌 블록체인 메인넷...  \n",
       "181  (지디넷코리아=류은주 기자)LG전자가 에티오피아에 이어 캄보디아서도 젊은 인재들의 ...  \n",
       "349  (지디넷코리아=신영빈 기자)한국로봇산업진흥원은 ‘2023년 유망기술 제품화 지원사업...  \n",
       "365  (지디넷코리아=이나리 기자)코웨이(대표 서장원)는 물맛 분야의 세계적 권위자인 ‘마...  "
      ]
     },
     "execution_count": 16,
     "metadata": {},
     "output_type": "execute_result"
    }
   ],
   "source": [
    "df_word1.head()"
   ]
  },
  {
   "cell_type": "code",
   "execution_count": null,
   "metadata": {},
   "outputs": [],
   "source": [
    "# '기술'과 함께 언급된 단어 리스트 만들기\n",
    "['다이슨', '성수동에', '헤어테크', '체험존', '운영', '엑스플라', '기업', '오지스']"
   ]
  }
 ],
 "metadata": {
  "kernelspec": {
   "display_name": "news",
   "language": "python",
   "name": "python3"
  },
  "language_info": {
   "codemirror_mode": {
    "name": "ipython",
    "version": 3
   },
   "file_extension": ".py",
   "mimetype": "text/x-python",
   "name": "python",
   "nbconvert_exporter": "python",
   "pygments_lexer": "ipython3",
   "version": "3.8.16"
  },
  "orig_nbformat": 4
 },
 "nbformat": 4,
 "nbformat_minor": 2
}
