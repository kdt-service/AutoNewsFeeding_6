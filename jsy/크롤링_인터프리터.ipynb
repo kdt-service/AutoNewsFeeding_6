{
  "cells": [
    {
      "cell_type": "code",
      "execution_count": null,
      "metadata": {
        "colab": {
          "base_uri": "https://localhost:8080/"
        },
        "id": "-85kT8vxR80-",
        "outputId": "86fcd275-b807-41bd-b03d-3841f3630672"
      },
      "outputs": [],
      "source": [
        "!scrapy startproject news_crawl"
      ]
    },
    {
      "cell_type": "code",
      "execution_count": null,
      "metadata": {
        "colab": {
          "base_uri": "https://localhost:8080/"
        },
        "id": "LzbyiP3Ddxq8",
        "outputId": "6721f48b-07f5-4fcb-fdfd-6246aadec4f1"
      },
      "outputs": [],
      "source": [
        "%cd ./news_crawl/news_crawl/spiders"
      ]
    },
    {
      "cell_type": "code",
      "execution_count": null,
      "metadata": {
        "colab": {
          "base_uri": "https://localhost:8080/"
        },
        "id": "te5hCDVITMPX",
        "outputId": "8b7a7de0-851a-4565-cc23-6750fe54aa55"
      },
      "outputs": [],
      "source": [
        "!scrapy genspider economics news.daum.net"
      ]
    },
    {
      "cell_type": "code",
      "execution_count": null,
      "metadata": {
        "id": "SlsU6NHlWRvZ"
      },
      "outputs": [],
      "source": [
        "!scrapy crawl economics -o test.csv -t csv"
      ]
    },
    {
      "cell_type": "code",
      "execution_count": null,
      "metadata": {
        "colab": {
          "base_uri": "https://localhost:8080/"
        },
        "id": "VLWWsWGiXv8o",
        "outputId": "7ef2deae-7059-4690-dbf7-52cf9f93372a"
      },
      "outputs": [],
      "source": [
        "import pandas as pd\n",
        "\n",
        "len(pd.read_csv('test.csv'))"
      ]
    }
  ],
  "metadata": {
    "colab": {
      "provenance": []
    },
    "kernelspec": {
      "display_name": "Python 3",
      "name": "python3"
    },
    "language_info": {
      "codemirror_mode": {
        "name": "ipython",
        "version": 3
      },
      "file_extension": ".py",
      "mimetype": "text/x-python",
      "name": "python",
      "nbconvert_exporter": "python",
      "pygments_lexer": "ipython3",
      "version": "3.10.9"
    }
  },
  "nbformat": 4,
  "nbformat_minor": 0
}
