{
 "cells": [
  {
   "cell_type": "code",
   "execution_count": null,
   "metadata": {},
   "outputs": [],
   "source": [
    "# 내가 하고싶은 것 -- 특정기간 동안 빈도수에 따른 키워드 추출 (중요도 X 단순빈도 O)"
   ]
  },
  {
   "cell_type": "code",
   "execution_count": 1,
   "metadata": {},
   "outputs": [],
   "source": [
    "from konlpy.tag import Okt\n",
    "from collections import Counter\n",
    "import pandas as pd"
   ]
  },
  {
   "cell_type": "code",
   "execution_count": 2,
   "metadata": {},
   "outputs": [],
   "source": [
    "data = pd.read_csv(r'C:\\Users\\jjang\\KDT\\03 통계기반 NLP 프로젝트\\뉴스요약\\다음_IT.csv')"
   ]
  },
  {
   "cell_type": "code",
   "execution_count": 3,
   "metadata": {},
   "outputs": [],
   "source": [
    "df = data.loc[:, ['content', 'writed_at']]"
   ]
  },
  {
   "cell_type": "code",
   "execution_count": 4,
   "metadata": {},
   "outputs": [
    {
     "name": "stdout",
     "output_type": "stream",
     "text": [
      "<class 'pandas.core.frame.DataFrame'>\n",
      "RangeIndex: 31843 entries, 0 to 31842\n",
      "Data columns (total 2 columns):\n",
      " #   Column     Non-Null Count  Dtype \n",
      "---  ------     --------------  ----- \n",
      " 0   content    31843 non-null  object\n",
      " 1   writed_at  31843 non-null  object\n",
      "dtypes: object(2)\n",
      "memory usage: 497.7+ KB\n"
     ]
    }
   ],
   "source": [
    "df.info()"
   ]
  },
  {
   "cell_type": "code",
   "execution_count": 5,
   "metadata": {},
   "outputs": [],
   "source": [
    "df['writed_at'] = pd.to_datetime(df['writed_at'], format='%Y-%m-%d %H:%M:%S')"
   ]
  },
  {
   "cell_type": "code",
   "execution_count": 6,
   "metadata": {},
   "outputs": [],
   "source": [
    "df_days = df.query('\"2023-02-01 00:00:00\"<= writed_at <= \"2023-02-03 23:59:59\"')"
   ]
  },
  {
   "cell_type": "code",
   "execution_count": 20,
   "metadata": {},
   "outputs": [],
   "source": [
    "# df_days = df_days.drop(['writed_at'], axis='columns')"
   ]
  },
  {
   "cell_type": "code",
   "execution_count": 7,
   "metadata": {},
   "outputs": [],
   "source": [
    "okt = Okt()\n",
    "line = []\n",
    "n_adj = []\n",
    "\n",
    "for index, row in df_days.iterrows():\n",
    "    content = row['content']\n",
    "    line = okt.pos(content)\n",
    "\n",
    "    for word, tag in line:\n",
    "        if tag in [\"Noun\", \"Adjective\"]:\n",
    "            n_adj.append(word)\n",
    "\n",
    "stop_words = \"등 수 있다 것 기자 이 를 있는 고 위 및 통해 의 말 위해 전 며 개 더 중 \"\n",
    "stop_words = set(stop_words.split(\" \"))\n",
    "n_adj = [word for word in n_adj if not word in stop_words]\n",
    "\n",
    "remove_one_word = [word for word in n_adj if len(word)>1]\n",
    "len(remove_one_word)\n",
    "\n",
    "counts = Counter(n_adj)\n",
    "keywords = counts.most_common(500)"
   ]
  },
  {
   "cell_type": "code",
   "execution_count": 8,
   "metadata": {},
   "outputs": [
    {
     "data": {
      "text/plain": [
       "[('기술', 3784),\n",
       " ('기업', 3184),\n",
       " ('서비스', 3183),\n",
       " ('제공', 2521),\n",
       " ('전자', 2464),\n",
       " ('시장', 2356),\n",
       " ('개발', 2229),\n",
       " ('사업', 2172),\n",
       " ('대표', 2122),\n",
       " ('데이터', 1805)]"
      ]
     },
     "execution_count": 8,
     "metadata": {},
     "output_type": "execute_result"
    }
   ],
   "source": [
    "keywords[:10]"
   ]
  },
  {
   "cell_type": "code",
   "execution_count": null,
   "metadata": {},
   "outputs": [],
   "source": [
    "# 이 키워드 중에서 어떤 것을 뉴스레터로 제공할 만한 키워드인지 고민해봐야 한다."
   ]
  },
  {
   "cell_type": "code",
   "execution_count": 9,
   "metadata": {},
   "outputs": [],
   "source": [
    "name_li = []\n",
    "for name, num in keywords:\n",
    "    name_li.append(name)"
   ]
  },
  {
   "cell_type": "code",
   "execution_count": 10,
   "metadata": {},
   "outputs": [
    {
     "data": {
      "text/plain": [
       "['기술', '기업', '서비스', '제공', '전자', '시장', '개발', '사업', '대표', '데이터']"
      ]
     },
     "execution_count": 10,
     "metadata": {},
     "output_type": "execute_result"
    }
   ],
   "source": [
    "name_li = name_li[0:10]\n",
    "name_li"
   ]
  },
  {
   "cell_type": "code",
   "execution_count": null,
   "metadata": {},
   "outputs": [],
   "source": [
    "# 키워드 10개 --> 뉴스레터 키워드 --> 기사 선정은 어떻게?"
   ]
  },
  {
   "cell_type": "code",
   "execution_count": null,
   "metadata": {},
   "outputs": [],
   "source": [
    "# 방법 1 -- 뉴스 제목 중에서 일치하는 기사 선정 -- 토픽 모델링 해서 토픽 여러개 -- 토픽당 아무 기사 1개 제공"
   ]
  },
  {
   "cell_type": "code",
   "execution_count": 11,
   "metadata": {},
   "outputs": [],
   "source": [
    "keyword_1 = name_li[0]\n",
    "keyword_2 = name_li[1]\n",
    "keyword_3 = name_li[2]"
   ]
  },
  {
   "cell_type": "code",
   "execution_count": 12,
   "metadata": {},
   "outputs": [],
   "source": [
    "df = pd.read_csv(r'C:\\Users\\jjang\\KDT\\03 통계기반 NLP 프로젝트\\뉴스요약\\다음_IT.csv')"
   ]
  },
  {
   "cell_type": "code",
   "execution_count": 13,
   "metadata": {},
   "outputs": [],
   "source": [
    "df_keyword_1 = df[df['title'].str.contains(keyword_1)]"
   ]
  },
  {
   "cell_type": "code",
   "execution_count": 14,
   "metadata": {},
   "outputs": [
    {
     "data": {
      "text/html": [
       "<div>\n",
       "<style scoped>\n",
       "    .dataframe tbody tr th:only-of-type {\n",
       "        vertical-align: middle;\n",
       "    }\n",
       "\n",
       "    .dataframe tbody tr th {\n",
       "        vertical-align: top;\n",
       "    }\n",
       "\n",
       "    .dataframe thead th {\n",
       "        text-align: right;\n",
       "    }\n",
       "</style>\n",
       "<table border=\"1\" class=\"dataframe\">\n",
       "  <thead>\n",
       "    <tr style=\"text-align: right;\">\n",
       "      <th></th>\n",
       "      <th>platform</th>\n",
       "      <th>main_category</th>\n",
       "      <th>sub_category</th>\n",
       "      <th>title</th>\n",
       "      <th>content</th>\n",
       "      <th>writer</th>\n",
       "      <th>writed_at</th>\n",
       "      <th>url</th>\n",
       "    </tr>\n",
       "  </thead>\n",
       "  <tbody>\n",
       "    <tr>\n",
       "      <th>24</th>\n",
       "      <td>다음</td>\n",
       "      <td>IT</td>\n",
       "      <td>IT기기</td>\n",
       "      <td>다이슨, 성수동에 헤어테크 기술 체험존 운영</td>\n",
       "      <td>(지디넷코리아=신영빈 기자)글로벌 기술 기업 다이슨코리아가 헤어 제품 팝업 ‘다이슨...</td>\n",
       "      <td>신영빈</td>\n",
       "      <td>2023-02-01 17:50:00</td>\n",
       "      <td>https://v.daum.net/v/20230202151936824</td>\n",
       "    </tr>\n",
       "    <tr>\n",
       "      <th>75</th>\n",
       "      <td>다음</td>\n",
       "      <td>IT</td>\n",
       "      <td>IT기기</td>\n",
       "      <td>엑스플라, 기술 기업 ‘오지스’ 벨리데이터 참여...건강한 블록체인 생태계 확장</td>\n",
       "      <td>오지스. 컴투스홀딩스 컴투스홀딩스 등 컴투스 그룹이 주도하는 글로벌 블록체인 메인넷...</td>\n",
       "      <td>성기훈</td>\n",
       "      <td>2023-02-01 14:01:00</td>\n",
       "      <td>https://v.daum.net/v/20230203100002863</td>\n",
       "    </tr>\n",
       "    <tr>\n",
       "      <th>181</th>\n",
       "      <td>다음</td>\n",
       "      <td>IT</td>\n",
       "      <td>IT기기</td>\n",
       "      <td>LG전자, 캄보디아 학생 자립 지원…에어컨 기술 무료 교육</td>\n",
       "      <td>(지디넷코리아=류은주 기자)LG전자가 에티오피아에 이어 캄보디아서도 젊은 인재들의 ...</td>\n",
       "      <td>류은주</td>\n",
       "      <td>2023-02-02 16:58:00</td>\n",
       "      <td>https://v.daum.net/v/20230212105602176</td>\n",
       "    </tr>\n",
       "    <tr>\n",
       "      <th>349</th>\n",
       "      <td>다음</td>\n",
       "      <td>IT</td>\n",
       "      <td>IT기기</td>\n",
       "      <td>한국로봇산업진흥원, 유망기술 제품화 수행 기업 모집</td>\n",
       "      <td>(지디넷코리아=신영빈 기자)한국로봇산업진흥원은 ‘2023년 유망기술 제품화 지원사업...</td>\n",
       "      <td>신영빈</td>\n",
       "      <td>2023-02-03 15:48:00</td>\n",
       "      <td>https://v.daum.net/v/20230223101604445</td>\n",
       "    </tr>\n",
       "    <tr>\n",
       "      <th>365</th>\n",
       "      <td>다음</td>\n",
       "      <td>IT</td>\n",
       "      <td>IT기기</td>\n",
       "      <td>세계적 물맛 전문가, '코웨이 환경기술연구소' 방문해 호평</td>\n",
       "      <td>(지디넷코리아=이나리 기자)코웨이(대표 서장원)는 물맛 분야의 세계적 권위자인 ‘마...</td>\n",
       "      <td>이나리</td>\n",
       "      <td>2023-02-03 14:05:00</td>\n",
       "      <td>https://v.daum.net/v/20230224134138369</td>\n",
       "    </tr>\n",
       "  </tbody>\n",
       "</table>\n",
       "</div>"
      ],
      "text/plain": [
       "    platform main_category sub_category   \n",
       "24        다음            IT         IT기기  \\\n",
       "75        다음            IT         IT기기   \n",
       "181       다음            IT         IT기기   \n",
       "349       다음            IT         IT기기   \n",
       "365       다음            IT         IT기기   \n",
       "\n",
       "                                            title   \n",
       "24                       다이슨, 성수동에 헤어테크 기술 체험존 운영  \\\n",
       "75   엑스플라, 기술 기업 ‘오지스’ 벨리데이터 참여...건강한 블록체인 생태계 확장   \n",
       "181              LG전자, 캄보디아 학생 자립 지원…에어컨 기술 무료 교육   \n",
       "349                  한국로봇산업진흥원, 유망기술 제품화 수행 기업 모집   \n",
       "365              세계적 물맛 전문가, '코웨이 환경기술연구소' 방문해 호평   \n",
       "\n",
       "                                               content writer   \n",
       "24   (지디넷코리아=신영빈 기자)글로벌 기술 기업 다이슨코리아가 헤어 제품 팝업 ‘다이슨...    신영빈  \\\n",
       "75   오지스. 컴투스홀딩스 컴투스홀딩스 등 컴투스 그룹이 주도하는 글로벌 블록체인 메인넷...    성기훈   \n",
       "181  (지디넷코리아=류은주 기자)LG전자가 에티오피아에 이어 캄보디아서도 젊은 인재들의 ...    류은주   \n",
       "349  (지디넷코리아=신영빈 기자)한국로봇산업진흥원은 ‘2023년 유망기술 제품화 지원사업...    신영빈   \n",
       "365  (지디넷코리아=이나리 기자)코웨이(대표 서장원)는 물맛 분야의 세계적 권위자인 ‘마...    이나리   \n",
       "\n",
       "               writed_at                                     url  \n",
       "24   2023-02-01 17:50:00  https://v.daum.net/v/20230202151936824  \n",
       "75   2023-02-01 14:01:00  https://v.daum.net/v/20230203100002863  \n",
       "181  2023-02-02 16:58:00  https://v.daum.net/v/20230212105602176  \n",
       "349  2023-02-03 15:48:00  https://v.daum.net/v/20230223101604445  \n",
       "365  2023-02-03 14:05:00  https://v.daum.net/v/20230224134138369  "
      ]
     },
     "execution_count": 14,
     "metadata": {},
     "output_type": "execute_result"
    }
   ],
   "source": [
    "df_keyword_1.head()\n",
    "# '기술'이 제목에 들어있는 기사 df"
   ]
  },
  {
   "cell_type": "code",
   "execution_count": 19,
   "metadata": {},
   "outputs": [],
   "source": [
    "# 제목으로만 토픽 모델링 하여 top 토픽 3개 --> 토픽 1개당 기사 무작위 1개 선정 --> 기사 요약 + URL 제공\n",
    "# 강사님 실습 파일 vscode로 돌려보기 실패 --> 토픽 모델링은 포기!!"
   ]
  },
  {
   "cell_type": "code",
   "execution_count": null,
   "metadata": {},
   "outputs": [],
   "source": [
    "# 기술 --> 2-gram으로 기술과 함께 언급된 단어 찾기 (title 내에서)"
   ]
  }
 ],
 "metadata": {
  "kernelspec": {
   "display_name": "news",
   "language": "python",
   "name": "python3"
  },
  "language_info": {
   "codemirror_mode": {
    "name": "ipython",
    "version": 3
   },
   "file_extension": ".py",
   "mimetype": "text/x-python",
   "name": "python",
   "nbconvert_exporter": "python",
   "pygments_lexer": "ipython3",
   "version": "3.8.16"
  },
  "orig_nbformat": 4
 },
 "nbformat": 4,
 "nbformat_minor": 2
}
